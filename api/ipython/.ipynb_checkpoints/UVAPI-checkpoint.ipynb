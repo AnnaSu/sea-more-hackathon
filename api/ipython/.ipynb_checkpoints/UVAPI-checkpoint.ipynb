{
 "cells": [
  {
   "cell_type": "code",
   "execution_count": 1,
   "metadata": {
    "collapsed": true
   },
   "outputs": [],
   "source": [
    "f = open(\"../../data/beachdict.json\")\n",
    "fs = f.read()\n",
    "import json\n",
    "beachobj = json.loads(fs)\n",
    "\n",
    "fuv = open(\"../../data/max_uv.json\").read()\n",
    "uvobj = json.loads(fuv)"
   ]
  },
  {
   "cell_type": "code",
   "execution_count": 2,
   "metadata": {},
   "outputs": [],
   "source": [
    "from math import sin \n",
    "from math import cos\n",
    "\n",
    "def sunlocation( month, day, hour,latitude,longitude):\n",
    "\n",
    "    #day from winter solstice\n",
    "\n",
    "    days = month * 30 + day +10\n",
    "    \n",
    "    hr = 12 + 8 * cos((latitude+23.404*cos(days/365))*3.1415926/180.0)  \n",
    "\n",
    "    phi =(90- latitude) / 180.0 *3.1415926 \n",
    "    \n",
    "    altitude_max = phi + 23.403 * cos(days/365.05 )*3.1415927 /180\n",
    "    \n",
    "    \n",
    "    sideralTime = phi *(280.16 + 360.985235 * 2) - hr\n",
    "    \n",
    "    mean_anomaly= 360.0 / 365.242191 * day + 279.403303 -282.768422\n",
    "   \n",
    "    \n",
    "\n",
    "    #altitude = sin(phi) * sin(dec) + cos(phi) * cos(dec) * cos(H)) \n",
    "\n",
    "    angle = (altitude_max *cos((hr/2 -hour)/hr))*3.1415926/180.0 \n",
    "    \n",
    "    return angle"
   ]
  },
  {
   "cell_type": "code",
   "execution_count": 3,
   "metadata": {},
   "outputs": [],
   "source": [
    "\n",
    "\n",
    "\n",
    "from math import sin \n",
    "from math import cos\n",
    "\n",
    "def uv_dose( uv_intensity, month, day, hour, latitude, longitude):\n",
    "\n",
    "\n",
    "    angle = sunlocation( month, day, hour,latitude,longitude)\n",
    "    angle_max = sunlocation( month, day, 12,latitude, longitude) \n",
    "    uvdose = uv_intensity * sin(angle)/sin(angle_max) \n",
    "\n",
    "    return uvdose \n"
   ]
  },
  {
   "cell_type": "code",
   "execution_count": 4,
   "metadata": {},
   "outputs": [
    {
     "name": "stderr",
     "output_type": "stream",
     "text": [
      " * Running on http://0.0.0.0:5002/ (Press CTRL+C to quit)\n",
      "127.0.0.1 - - [29/Apr/2017 09:32:25] \"GET /uv?beach=%E6%B2%99%E5%B4%99%E6%B5%B7%E6%B0%B4%E6%B5%B4%E5%A0%B4&date=5-5-16 HTTP/1.0\" 200 -\n"
     ]
    },
    {
     "name": "stdout",
     "output_type": "stream",
     "text": [
      "5.0 5.0 16.0\n",
      "沙崙海水浴場\n"
     ]
    }
   ],
   "source": [
    "from flask import request\n",
    "from flask import Flask\n",
    "app = Flask(__name__)\n",
    "\n",
    "@app.route(\"/uv\")\n",
    "def uv():\n",
    "    uv_intensity = request.args.get('uv_intensity')\n",
    "    date = request.args.get('date')\n",
    "    \n",
    "    month, day, hour = [float(i) for i in date.split(\"-\")]\n",
    "    print month, day,hour\n",
    "    \n",
    "    \n",
    "    \n",
    "    beach = request.args.get('beach')\n",
    "    \n",
    "    print beach\n",
    "    latitude, longitude = beachobj[beach]['ll'].split(\",\")\n",
    "    \n",
    "    latitude = float(latitude) \n",
    "    longitude = float(longitude)\n",
    "    \n",
    "    \n",
    "    \n",
    "    city = beachobj[beach]['city']\n",
    "\n",
    "\n",
    "    uv_intensity = float(uvobj[city])\n",
    "    \n",
    "    uv = uv_dose(uv_intensity ,month , day, hour, latitude, longitude)\n",
    "    \n",
    "    \n",
    "    if uv <=2 :\n",
    "        pass\n",
    "        return json.dumps(['陰天','所以也沒什麼好建議'])\n",
    "    elif uv<=5 :\n",
    "        pass\n",
    "        json.dumps(['小小太陽','建議不要超過 45 分鐘'])\n",
    "    elif uv<=7:\n",
    "        json.dumps(['太陽有點大了',\"\"\"\"建議不要超過 30 分鐘\"\"\"])\n",
    "    elif uv<=10:\n",
    "        pass\n",
    "        json.dumps(['毒辣的太陽',\"\"\"建議不要超過 15 分鐘\"\"\"])\n",
    "    else:\n",
    "        pass\n",
    "        return json.dumps(['快跟氫彈一樣','千萬不要出門'])\n",
    "    return json.dumps(uv)\n",
    "\n",
    "if __name__ == \"__main__\":\n",
    "    app.run(host='0.0.0.0', port=5002)"
   ]
  },
  {
   "cell_type": "code",
   "execution_count": null,
   "metadata": {
    "collapsed": true
   },
   "outputs": [],
   "source": []
  },
  {
   "cell_type": "code",
   "execution_count": null,
   "metadata": {},
   "outputs": [],
   "source": []
  },
  {
   "cell_type": "code",
   "execution_count": null,
   "metadata": {},
   "outputs": [],
   "source": []
  },
  {
   "cell_type": "code",
   "execution_count": null,
   "metadata": {},
   "outputs": [],
   "source": []
  },
  {
   "cell_type": "code",
   "execution_count": null,
   "metadata": {
    "collapsed": true
   },
   "outputs": [],
   "source": []
  }
 ],
 "metadata": {
  "kernelspec": {
   "display_name": "Python 2",
   "language": "python",
   "name": "python2"
  },
  "language_info": {
   "codemirror_mode": {
    "name": "ipython",
    "version": 2
   },
   "file_extension": ".py",
   "mimetype": "text/x-python",
   "name": "python",
   "nbconvert_exporter": "python",
   "pygments_lexer": "ipython2",
   "version": "2.7.9"
  }
 },
 "nbformat": 4,
 "nbformat_minor": 2
}
