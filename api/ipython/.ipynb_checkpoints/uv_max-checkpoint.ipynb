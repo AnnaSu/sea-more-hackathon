{
 "cells": [
  {
   "cell_type": "code",
   "execution_count": 128,
   "metadata": {
    "collapsed": true
   },
   "outputs": [],
   "source": [
    "DATAID = \"O-A0005-001\"\n",
    "CWBKEY = \"CWB-574A0062-1D41-409B-9046-DDA4D1EDD4A8\"\n",
    "URL = \"http://opendata.cwb.gov.tw/opendataapi?dataid={}&authorizationkey={}\".format(DATAID, CWBKEY)"
   ]
  },
  {
   "cell_type": "code",
   "execution_count": 158,
   "metadata": {
    "collapsed": true
   },
   "outputs": [],
   "source": [
    "def uv():\n",
    "    r = requests.get(URL)\n",
    "    o = xmltodict.parse(r.text)\n",
    "    with open(\"../location_code.json\",\"r\") as f:\n",
    "        locode = json.load(f)\n",
    "    locode_inv = dict((v,k) for k, v in locode.iteritems())\n",
    "    data = {}\n",
    "    tmp = o['cwbopendata']['dataset']['weatherElement']['location']\n",
    "    for each in tmp:\n",
    "        try:\n",
    "            loc = locode_inv[each['locationCode']]\n",
    "            v = each[\"value\"]\n",
    "            data.update({loc:v})\n",
    "        except:\n",
    "            pass\n",
    "    data.update({u\"臺中市\":[x['value'] for x in tmp if x['locationCode']==\"467490\"][0]})\n",
    "    data.update({u\"嘉義縣\":[x['value'] for x in tmp if x['locationCode']==\"467480\"][0]})\n",
    "    data.update({u\"雲林縣\":[x['value'] for x in tmp if x['locationCode']==\"467480\"][0]})\n",
    "    data.update({u\"新竹縣\":[x['value'] for x in tmp if x['locationCode']==\"467570\"][0]})\n",
    "    data.update({u\"苗栗縣\":[x['value'] for x in tmp if x['locationCode']==\"467570\"][0]})\n",
    "    data.update({u\"金門縣\":[x['value'] for x in tmp if x['locationCode']==\"467110\"][0]})\n",
    "\n",
    "\n",
    "    with open(\"../../data/uv.json\",\"w\") as f:\n",
    "        json.dump(data,f)\n"
   ]
  },
  {
   "cell_type": "code",
   "execution_count": 159,
   "metadata": {},
   "outputs": [],
   "source": [
    "q=  uv()"
   ]
  },
  {
   "cell_type": "code",
   "execution_count": 153,
   "metadata": {},
   "outputs": [
    {
     "data": {
      "text/plain": [
       "[(u'\\u82d7\\u6817\\u7e23', u'8.6200'),\n",
       " (u'\\u6843\\u5712\\u5e02', u'6.5100'),\n",
       " (u'\\u9023\\u6c5f\\u7e23', u'9.4500'),\n",
       " (u'\\u96f2\\u6797\\u7e23', u'8.5800'),\n",
       " (u'\\u9ad8\\u96c4\\u5e02', u'9.1300'),\n",
       " (u'\\u5c4f\\u6771\\u7e23', u'2.8100'),\n",
       " (u'\\u81fa\\u4e2d\\u5e02', u'8.3700'),\n",
       " (u'\\u81fa\\u5357\\u5e02', u'8.1100'),\n",
       " (u'\\u81fa\\u5317\\u5e02', u'10.3600'),\n",
       " (u'\\u5b9c\\u862d\\u7e23', u'12.0600'),\n",
       " (u'\\u91d1\\u9580\\u7e23', u'9.4500'),\n",
       " (u'\\u5357\\u6295\\u7e23', u'2.8900'),\n",
       " (u'\\u5f70\\u5316\\u7e23', u'8.3700'),\n",
       " (u'\\u6f8e\\u6e56\\u7e23', u'10.0200'),\n",
       " (u'\\u5609\\u7fa9\\u7e23', u'8.5800'),\n",
       " (u'\\u82b1\\u84ee\\u7e23', u'3.9100'),\n",
       " (u'\\u57fa\\u9686\\u5e02', u'8.2100'),\n",
       " (u'\\u65b0\\u7af9\\u5e02', u'8.6200'),\n",
       " (u'\\u65b0\\u7af9\\u7e23', u'8.6200'),\n",
       " (u'\\u65b0\\u5317\\u5e02', u'9.3800'),\n",
       " (u'\\u81fa\\u6771\\u7e23', u'5.2300')]"
      ]
     },
     "execution_count": 153,
     "metadata": {},
     "output_type": "execute_result"
    }
   ],
   "source": [
    "q.items()"
   ]
  },
  {
   "cell_type": "code",
   "execution_count": 154,
   "metadata": {},
   "outputs": [
    {
     "name": "stdout",
     "output_type": "stream",
     "text": [
      "苗栗縣 8.6200\n",
      "桃園市 6.5100\n",
      "連江縣 9.4500\n",
      "雲林縣 8.5800\n",
      "高雄市 9.1300\n",
      "屏東縣 2.8100\n",
      "臺中市 8.3700\n",
      "臺南市 8.1100\n",
      "臺北市 10.3600\n",
      "宜蘭縣 12.0600\n",
      "金門縣 9.4500\n",
      "南投縣 2.8900\n",
      "彰化縣 8.3700\n",
      "澎湖縣 10.0200\n",
      "嘉義縣 8.5800\n",
      "花蓮縣 3.9100\n",
      "基隆市 8.2100\n",
      "新竹市 8.6200\n",
      "新竹縣 8.6200\n",
      "新北市 9.3800\n",
      "臺東縣 5.2300\n"
     ]
    }
   ],
   "source": [
    "for each in q.items():\n",
    "    print each[0], each[1]"
   ]
  },
  {
   "cell_type": "code",
   "execution_count": 129,
   "metadata": {},
   "outputs": [
    {
     "name": "stdout",
     "output_type": "stream",
     "text": [
      "http://opendata.cwb.gov.tw/opendataapi?dataid=O-A0005-001&authorizationkey=CWB-574A0062-1D41-409B-9046-DDA4D1EDD4A8\n"
     ]
    }
   ],
   "source": [
    "import requests\n",
    "r = requests.get(URL)\n",
    "print URL"
   ]
  },
  {
   "cell_type": "code",
   "execution_count": 130,
   "metadata": {
    "scrolled": true
   },
   "outputs": [
    {
     "name": "stdout",
     "output_type": "stream",
     "text": [
      "{\n",
      "  \"cwbopendata\": {\n",
      "    \"@xmlns\": \"urn:cwb:gov:tw:cwbcommon:0.1\", \n",
      "    \"identifier\": \"3bbb4eca-b3ee-408f-a21e-103e5b384e06\", \n",
      "    \"sender\": \"weather@cwb.gov.tw\", \n",
      "    \"sent\": \"2017-04-28T14:30:01+08:00\", \n",
      "    \"status\": \"Actual\", \n",
      "    \"msgType\": \"Issue\", \n",
      "    \"dataid\": \"CWB_A0005\", \n",
      "    \"scope\": \"Public\", \n",
      "    \"dataset\": {\n",
      "      \"weatherElement\": {\n",
      "        \"elementName\": \"氣象站每日紫外線指數最大值\", \n",
      "        \"time\": {\n",
      "          \"dataTime\": \"2017/04/28\"\n",
      "        }, \n",
      "        \"location\": [\n",
      "          {\n",
      "            \"locationCode\": \"467480\", \n",
      "            \"value\": \"8.5800\"\n",
      "          }, \n",
      "          {\n",
      "            \"locationCode\": \"467490\", \n",
      "            \"value\": \"8.3700\"\n",
      "          }, \n",
      "          {\n",
      "            \"locationCode\": \"467350\", \n",
      "            \"value\": \"10.0200\"\n",
      "          }, \n",
      "          {\n",
      "            \"locationCode\": \"467080\", \n",
      "            \"value\": \"12.0600\"\n",
      "          }, \n",
      "          {\n",
      "            \"locationCode\": \"467110\", \n",
      "            \"value\": \"9.4500\"\n",
      "          }, \n",
      "          {\n",
      "            \"locationCode\": \"467650\", \n",
      "            \"value\": \"2.8900\"\n",
      "          }, \n",
      "          {\n",
      "            \"locationCode\": \"467660\", \n",
      "            \"value\": \"5.2300\"\n",
      "          }, \n",
      "          {\n",
      "            \"locationCode\": \"467620\", \n",
      "            \"value\": \"2.5300\"\n",
      "          }, \n",
      "          {\n",
      "            \"locationCode\": \"467050\", \n",
      "            \"value\": \"6.5100\"\n",
      "          }, \n",
      "          {\n",
      "            \"locationCode\": \"466940\", \n",
      "            \"value\": \"8.2100\"\n",
      "          }, \n",
      "          {\n",
      "            \"locationCode\": \"467610\", \n",
      "            \"value\": \"3.0500\"\n",
      "          }, \n",
      "          {\n",
      "            \"locationCode\": \"466920\", \n",
      "            \"value\": \"10.3600\"\n",
      "          }, \n",
      "          {\n",
      "            \"locationCode\": \"467590\", \n",
      "            \"value\": \"2.8100\"\n",
      "          }, \n",
      "          {\n",
      "            \"locationCode\": \"466910\", \n",
      "            \"value\": \"9.3800\"\n",
      "          }, \n",
      "          {\n",
      "            \"locationCode\": \"467570\", \n",
      "            \"value\": \"8.6200\"\n",
      "          }, \n",
      "          {\n",
      "            \"locationCode\": \"467410\", \n",
      "            \"value\": \"8.1100\"\n",
      "          }, \n",
      "          {\n",
      "            \"locationCode\": \"467550\", \n",
      "            \"value\": \"9.5000\"\n",
      "          }, \n",
      "          {\n",
      "            \"locationCode\": \"467440\", \n",
      "            \"value\": \"9.1300\"\n",
      "          }, \n",
      "          {\n",
      "            \"locationCode\": \"467990\", \n",
      "            \"value\": \"10.9600\"\n",
      "          }, \n",
      "          {\n",
      "            \"locationCode\": \"466990\", \n",
      "            \"value\": \"3.9100\"\n",
      "          }\n",
      "        ]\n",
      "      }\n",
      "    }\n",
      "  }\n",
      "}\n"
     ]
    }
   ],
   "source": [
    "import xmltodict, json\n",
    "o = xmltodict.parse(r.text)\n",
    "qq = json.dumps(o, ensure_ascii=False, indent=2)\n",
    "print qq\n"
   ]
  },
  {
   "cell_type": "code",
   "execution_count": 13,
   "metadata": {},
   "outputs": [
    {
     "name": "stdout",
     "output_type": "stream",
     "text": [
      "elementName\n",
      "time\n",
      "location\n"
     ]
    }
   ],
   "source": [
    "for each in o['cwbopendata']['dataset']['weatherElement']:\n",
    "    p"
   ]
  },
  {
   "cell_type": "code",
   "execution_count": 125,
   "metadata": {},
   "outputs": [],
   "source": [
    "locode={\"新北市\":\"466910\",\n",
    "\"臺東縣\":\"467660\",\n",
    "\"嘉義市\":\"467480\",\n",
    "\"彰化縣\":\"467490\",\n",
    "\"新竹縣\":\"467570\",\n",
    "\"南投縣\":\"467650\",\n",
    "\"金門縣\":\"467110\",\n",
    "\"花蓮縣\":\"466990\",\n",
    "\"臺北市\":\"466920\",\n",
    "\"澎湖縣\":\"467350\",\n",
    "\"嘉義縣\":\"467480\",\n",
    "\"宜蘭縣\":\"467080\",\n",
    "\"桃園市\":\"467050\",\n",
    "\"雲林縣\":\"467480\",\n",
    "\"高雄市\":\"467440\",\n",
    "\"新竹市\":\"467570\",\n",
    "\"基隆市\":\"466940\",\n",
    "\"臺中市\":\"467490\",\n",
    "\"屏東縣\":\"467590\",\n",
    "\"臺南市\":\"467410\",\n",
    "\"連江縣\":\"467990\",\n",
    "\"苗栗縣\":\"467570\"}"
   ]
  },
  {
   "cell_type": "code",
   "execution_count": 126,
   "metadata": {},
   "outputs": [],
   "source": [
    "locode_inv = dict((v,unicode(k.decode(\"utf-8\"))) for k,v in locode.iteritems())"
   ]
  },
  {
   "cell_type": "code",
   "execution_count": 133,
   "metadata": {},
   "outputs": [
    {
     "name": "stdout",
     "output_type": "stream",
     "text": [
      "466910 新北市\n",
      "467570 新竹縣\n",
      "467410 臺南市\n",
      "467050 桃園市\n",
      "467660 臺東縣\n",
      "467110 金門縣\n",
      "467480 嘉義縣\n",
      "467490 彰化縣\n",
      "467990 連江縣\n",
      "467080 宜蘭縣\n",
      "467350 澎湖縣\n",
      "466940 基隆市\n",
      "466990 花蓮縣\n",
      "467650 南投縣\n",
      "467590 屏東縣\n",
      "467440 高雄市\n",
      "466920 臺北市\n"
     ]
    }
   ],
   "source": [
    "for x in locode_inv.items():\n",
    "    print x[0], x[1]"
   ]
  },
  {
   "cell_type": "code",
   "execution_count": 131,
   "metadata": {},
   "outputs": [
    {
     "name": "stdout",
     "output_type": "stream",
     "text": [
      "20\n",
      "17\n",
      "467480\n",
      "嘉義縣\n",
      "467490\n",
      "彰化縣\n",
      "467350\n",
      "澎湖縣\n",
      "467080\n",
      "宜蘭縣\n",
      "467110\n",
      "金門縣\n",
      "467650\n",
      "南投縣\n",
      "467660\n",
      "臺東縣\n",
      "467050\n",
      "桃園市\n",
      "466940\n",
      "基隆市\n",
      "466920\n",
      "臺北市\n",
      "467590\n",
      "屏東縣\n",
      "466910\n",
      "新北市\n",
      "467570\n",
      "新竹縣\n",
      "467410\n",
      "臺南市\n",
      "467440\n",
      "高雄市\n",
      "467990\n",
      "連江縣\n",
      "466990\n",
      "花蓮縣\n"
     ]
    }
   ],
   "source": [
    "tmp = o['cwbopendata']['dataset']['weatherElement']['location'][:]\n",
    "print len(tmp)\n",
    "for each in tmp:\n",
    "    if each[\"locationCode\"] == \"467620\" or each['locationCode']==\"467610\"or each['locationCode']==\"467550\":\n",
    "        tmp.remove(each)\n",
    "print len(tmp)\n",
    "for each in tmp:\n",
    "    print each['locationCode']\n",
    "    print locode_inv[each['locationCode']]"
   ]
  },
  {
   "cell_type": "code",
   "execution_count": 117,
   "metadata": {},
   "outputs": [
    {
     "name": "stdout",
     "output_type": "stream",
     "text": [
      "466910\n",
      "467570\n",
      "467410\n",
      "467050\n",
      "467660\n",
      "467480\n",
      "467490\n",
      "467590\n",
      "467080\n",
      "467350\n",
      "466940\n",
      "466990\n",
      "467650\n",
      "467110\n",
      "467440\n",
      "466920\n"
     ]
    }
   ],
   "source": [
    "for each in locode_inv:\n",
    "    print tmpeach"
   ]
  },
  {
   "cell_type": "code",
   "execution_count": 70,
   "metadata": {},
   "outputs": [
    {
     "name": "stdout",
     "output_type": "stream",
     "text": [
      "桃園市 6.5100\n",
      "高雄市 9.1300\n",
      "屏東縣 2.8100\n",
      "臺南市 8.1100\n",
      "臺北市 10.3600\n",
      "宜蘭縣 12.0600\n",
      "南投縣 2.8900\n",
      "彰化縣 8.3700\n",
      "澎湖縣 10.0200\n",
      "嘉義縣 8.5800\n",
      "金門縣 9.4500\n",
      "基隆市 8.2100\n",
      "新竹縣 8.6200\n",
      "新北市 9.3800\n",
      "臺東縣 5.2300\n",
      "花蓮縣 3.9100\n"
     ]
    }
   ],
   "source": [
    "for each in data.items():\n",
    "    print each[0], each[1]"
   ]
  },
  {
   "cell_type": "code",
   "execution_count": 73,
   "metadata": {},
   "outputs": [
    {
     "data": {
      "text/plain": [
       "{u'\\u5357\\u6295\\u7e23': u'2.8900',\n",
       " u'\\u5609\\u7fa9\\u7e23': u'8.5800',\n",
       " u'\\u57fa\\u9686\\u5e02': u'8.2100',\n",
       " u'\\u5b9c\\u862d\\u7e23': u'12.0600',\n",
       " u'\\u5c4f\\u6771\\u7e23': u'2.8100',\n",
       " u'\\u5f70\\u5316\\u7e23': u'8.3700',\n",
       " u'\\u65b0\\u5317\\u5e02': u'9.3800',\n",
       " u'\\u65b0\\u7af9\\u7e23': u'8.6200',\n",
       " u'\\u6843\\u5712\\u5e02': u'6.5100',\n",
       " u'\\u6f8e\\u6e56\\u7e23': u'10.0200',\n",
       " u'\\u81fa\\u5317\\u5e02': u'10.3600',\n",
       " u'\\u81fa\\u5357\\u5e02': u'8.1100',\n",
       " u'\\u81fa\\u6771\\u7e23': u'5.2300',\n",
       " u'\\u82b1\\u84ee\\u7e23': u'3.9100',\n",
       " u'\\u91d1\\u9580\\u7e23': u'9.4500',\n",
       " u'\\u9ad8\\u96c4\\u5e02': u'9.1300'}"
      ]
     },
     "execution_count": 73,
     "metadata": {},
     "output_type": "execute_result"
    }
   ],
   "source": [
    "data"
   ]
  },
  {
   "cell_type": "code",
   "execution_count": 84,
   "metadata": {},
   "outputs": [
    {
     "name": "stdout",
     "output_type": "stream",
     "text": [
      "467480 8.5800 嘉義縣\n",
      "\n",
      "\n",
      "467490 8.3700 彰化縣\n",
      "\n",
      "\n",
      "467350 10.0200 澎湖縣\n",
      "\n",
      "\n",
      "467080 12.0600 宜蘭縣\n",
      "\n",
      "\n",
      "467110 9.4500 金門縣\n",
      "\n",
      "\n",
      "467650 2.8900 南投縣\n",
      "\n",
      "\n",
      "467660 5.2300 臺東縣\n",
      "\n",
      "\n",
      "467620 2.5300 467620\n",
      "467050 6.5100 桃園市\n",
      "\n",
      "\n",
      "466940 8.2100 基隆市\n",
      "\n",
      "\n",
      "467610 3.0500 467610\n",
      "466920 10.3600 臺北市\n",
      "\n",
      "\n",
      "467590 2.8100 屏東縣\n",
      "\n",
      "\n",
      "466910 9.3800 新北市\n",
      "\n",
      "\n",
      "467570 8.6200 新竹縣\n",
      "\n",
      "\n",
      "467410 8.1100 臺南市\n",
      "\n",
      "\n",
      "467550 9.5000 467550\n",
      "467440 9.1300 高雄市\n",
      "\n",
      "\n",
      "467990 10.9600 467990\n",
      "466990 3.9100 花蓮縣\n",
      "\n",
      "\n"
     ]
    }
   ],
   "source": [
    "for each in o['cwbopendata']['dataset']['weatherElement']['location']:\n",
    "    try:\n",
    "        print each['locationCode'], each['value'], locode_inv[each['locationCode']]\n",
    "        print \"\\n\"\n",
    "    except KeyError:\n",
    "        print each['locationCode']"
   ]
  },
  {
   "cell_type": "code",
   "execution_count": 87,
   "metadata": {},
   "outputs": [
    {
     "name": "stdout",
     "output_type": "stream",
     "text": [
      "<type 'unicode'> <type 'unicode'>\n",
      "<type 'unicode'> <type 'unicode'>\n",
      "<type 'unicode'> <type 'unicode'>\n",
      "<type 'unicode'> <type 'unicode'>\n",
      "<type 'unicode'> <type 'unicode'>\n",
      "<type 'unicode'> <type 'unicode'>\n",
      "<type 'unicode'> <type 'unicode'>\n",
      "<type 'unicode'> <type 'unicode'>\n",
      "<type 'unicode'> <type 'unicode'>\n",
      "<type 'unicode'> <type 'unicode'>\n",
      "<type 'unicode'> <type 'unicode'>\n",
      "<type 'unicode'> <type 'unicode'>\n",
      "<type 'unicode'> <type 'unicode'>\n",
      "<type 'unicode'> <type 'unicode'>\n",
      "<type 'unicode'> <type 'unicode'>\n",
      "<type 'unicode'> <type 'unicode'>\n",
      "<type 'unicode'> <type 'unicode'>\n",
      "<type 'unicode'> <type 'unicode'>\n",
      "<type 'unicode'> <type 'unicode'>\n",
      "<type 'unicode'> <type 'unicode'>\n"
     ]
    }
   ],
   "source": [
    "for each in o['cwbopendata']['dataset']['weatherElement']['location']:\n",
    "    print type(each['locationCode']), type(each['value'])"
   ]
  },
  {
   "cell_type": "code",
   "execution_count": null,
   "metadata": {
    "collapsed": true
   },
   "outputs": [],
   "source": [
    "for each in o['cwbopendata']['dataset']['weatherElement']['location']:\n",
    "    "
   ]
  },
  {
   "cell_type": "code",
   "execution_count": 112,
   "metadata": {},
   "outputs": [
    {
     "ename": "IndexError",
     "evalue": "list index out of range",
     "output_type": "error",
     "traceback": [
      "\u001b[0;31m---------------------------------------------------------------------------\u001b[0m",
      "\u001b[0;31mIndexError\u001b[0m                                Traceback (most recent call last)",
      "\u001b[0;32m<ipython-input-112-f7d0746f5d38>\u001b[0m in \u001b[0;36m<module>\u001b[0;34m()\u001b[0m\n\u001b[0;32m----> 1\u001b[0;31m \u001b[0;32mprint\u001b[0m \u001b[0mlocode_inv\u001b[0m\u001b[0;34m[\u001b[0m\u001b[0mo\u001b[0m\u001b[0;34m[\u001b[0m\u001b[0;34m'cwbopendata'\u001b[0m\u001b[0;34m]\u001b[0m\u001b[0;34m[\u001b[0m\u001b[0;34m'dataset'\u001b[0m\u001b[0;34m]\u001b[0m\u001b[0;34m[\u001b[0m\u001b[0;34m'weatherElement'\u001b[0m\u001b[0;34m]\u001b[0m\u001b[0;34m[\u001b[0m\u001b[0;34m'location'\u001b[0m\u001b[0;34m]\u001b[0m\u001b[0;34m[\u001b[0m\u001b[0;36m20\u001b[0m\u001b[0;34m]\u001b[0m\u001b[0;34m[\u001b[0m\u001b[0;34m'locationCode'\u001b[0m\u001b[0;34m]\u001b[0m\u001b[0;34m]\u001b[0m\u001b[0;34m\u001b[0m\u001b[0m\n\u001b[0m",
      "\u001b[0;31mIndexError\u001b[0m: list index out of range"
     ]
    }
   ],
   "source": [
    "print locode_inv[o['cwbopendata']['dataset']['weatherElement']['location'][20]['locationCode']]"
   ]
  },
  {
   "cell_type": "markdown",
   "metadata": {},
   "source": [
    "### "
   ]
  },
  {
   "cell_type": "code",
   "execution_count": null,
   "metadata": {
    "collapsed": true
   },
   "outputs": [],
   "source": []
  }
 ],
 "metadata": {
  "kernelspec": {
   "display_name": "Python 2",
   "language": "python",
   "name": "python2"
  },
  "language_info": {
   "codemirror_mode": {
    "name": "ipython",
    "version": 2
   },
   "file_extension": ".py",
   "mimetype": "text/x-python",
   "name": "python",
   "nbconvert_exporter": "python",
   "pygments_lexer": "ipython2",
   "version": "2.7.9"
  }
 },
 "nbformat": 4,
 "nbformat_minor": 2
}
